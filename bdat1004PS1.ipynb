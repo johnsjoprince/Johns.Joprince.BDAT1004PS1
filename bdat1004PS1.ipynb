{
 "cells": [
  {
   "cell_type": "markdown",
   "id": "52862466",
   "metadata": {},
   "source": [
    "# QUESTION 1"
   ]
  },
  {
   "cell_type": "code",
   "execution_count": 2,
   "id": "ee979d0e",
   "metadata": {},
   "outputs": [
    {
     "data": {
      "text/plain": [
       "int"
      ]
     },
     "execution_count": 2,
     "metadata": {},
     "output_type": "execute_result"
    }
   ],
   "source": [
    "type(5)"
   ]
  },
  {
   "cell_type": "code",
   "execution_count": 3,
   "id": "e0df968b",
   "metadata": {},
   "outputs": [
    {
     "data": {
      "text/plain": [
       "float"
      ]
     },
     "execution_count": 3,
     "metadata": {},
     "output_type": "execute_result"
    }
   ],
   "source": [
    "type(5.0)"
   ]
  },
  {
   "cell_type": "code",
   "execution_count": 4,
   "id": "7c285caf",
   "metadata": {},
   "outputs": [
    {
     "data": {
      "text/plain": [
       "bool"
      ]
     },
     "execution_count": 4,
     "metadata": {},
     "output_type": "execute_result"
    }
   ],
   "source": [
    "type(5 > 1)"
   ]
  },
  {
   "cell_type": "code",
   "execution_count": 5,
   "id": "96ef7c2d",
   "metadata": {},
   "outputs": [
    {
     "data": {
      "text/plain": [
       "str"
      ]
     },
     "execution_count": 5,
     "metadata": {},
     "output_type": "execute_result"
    }
   ],
   "source": [
    "type('5')"
   ]
  },
  {
   "cell_type": "code",
   "execution_count": 6,
   "id": "a2db84e0",
   "metadata": {},
   "outputs": [
    {
     "data": {
      "text/plain": [
       "int"
      ]
     },
     "execution_count": 6,
     "metadata": {},
     "output_type": "execute_result"
    }
   ],
   "source": [
    "type(5 * 2)"
   ]
  },
  {
   "cell_type": "code",
   "execution_count": 7,
   "id": "8a277415",
   "metadata": {},
   "outputs": [
    {
     "data": {
      "text/plain": [
       "str"
      ]
     },
     "execution_count": 7,
     "metadata": {},
     "output_type": "execute_result"
    }
   ],
   "source": [
    "type('5' * 2)"
   ]
  },
  {
   "cell_type": "code",
   "execution_count": 8,
   "id": "ea6ac76a",
   "metadata": {},
   "outputs": [
    {
     "data": {
      "text/plain": [
       "str"
      ]
     },
     "execution_count": 8,
     "metadata": {},
     "output_type": "execute_result"
    }
   ],
   "source": [
    "type('5' + '2')"
   ]
  },
  {
   "cell_type": "code",
   "execution_count": 9,
   "id": "f1a5b454",
   "metadata": {},
   "outputs": [
    {
     "data": {
      "text/plain": [
       "float"
      ]
     },
     "execution_count": 9,
     "metadata": {},
     "output_type": "execute_result"
    }
   ],
   "source": [
    "type(5 / 2)"
   ]
  },
  {
   "cell_type": "code",
   "execution_count": 10,
   "id": "e821c97b",
   "metadata": {},
   "outputs": [
    {
     "data": {
      "text/plain": [
       "int"
      ]
     },
     "execution_count": 10,
     "metadata": {},
     "output_type": "execute_result"
    }
   ],
   "source": [
    "type(5 % 2)"
   ]
  },
  {
   "cell_type": "code",
   "execution_count": 11,
   "id": "c0e9033c",
   "metadata": {},
   "outputs": [
    {
     "data": {
      "text/plain": [
       "set"
      ]
     },
     "execution_count": 11,
     "metadata": {},
     "output_type": "execute_result"
    }
   ],
   "source": [
    "type({5, 2, 1})"
   ]
  },
  {
   "cell_type": "code",
   "execution_count": 12,
   "id": "9ab8142d",
   "metadata": {},
   "outputs": [
    {
     "data": {
      "text/plain": [
       "bool"
      ]
     },
     "execution_count": 12,
     "metadata": {},
     "output_type": "execute_result"
    }
   ],
   "source": [
    "type(5 == 3)"
   ]
  },
  {
   "cell_type": "code",
   "execution_count": 13,
   "id": "30708774",
   "metadata": {},
   "outputs": [
    {
     "data": {
      "text/plain": [
       "float"
      ]
     },
     "execution_count": 13,
     "metadata": {},
     "output_type": "execute_result"
    }
   ],
   "source": [
    "import math\n",
    "type(math.pi)"
   ]
  },
  {
   "cell_type": "markdown",
   "id": "582833af",
   "metadata": {},
   "source": [
    "# QUESTION 2"
   ]
  },
  {
   "cell_type": "code",
   "execution_count": 19,
   "id": "bce640c9",
   "metadata": {},
   "outputs": [
    {
     "name": "stdout",
     "output_type": "stream",
     "text": [
      "34\n"
     ]
    }
   ],
   "source": [
    "# How many letters are there in 'Supercalifragilisticexpialidocious'?\n",
    "string = 'Supercalifragilisticexpialidocious'\n",
    "print(len(string))"
   ]
  },
  {
   "cell_type": "code",
   "execution_count": 18,
   "id": "71488d7d",
   "metadata": {},
   "outputs": [
    {
     "name": "stdout",
     "output_type": "stream",
     "text": [
      "True\n"
     ]
    }
   ],
   "source": [
    "# Does 'Supercalifragilisticexpialidocious' contain 'ice' as a substring?\n",
    "\n",
    "string = 'Supercalifragilisticexpialidocious'\n",
    "print('ice' in string)"
   ]
  },
  {
   "cell_type": "code",
   "execution_count": 25,
   "id": "50b7dd25",
   "metadata": {},
   "outputs": [
    {
     "name": "stdout",
     "output_type": "stream",
     "text": [
      "longest words: ['Supercalifragilisticexpialidocious', 'Bababadalgharaghtakamminarronnkonn']\n"
     ]
    }
   ],
   "source": [
    "# Which of the following words is the longest:\n",
    "# Supercalifragilisticexpialidocious, Honorificabilitudinitatibus, or\n",
    "# Bababadalgharaghtakamminarronnkonn?\n",
    "\n",
    "string1 = 'Supercalifragilisticexpialidocious'\n",
    "string2 = 'Honorificabilitudinitatibus'\n",
    "string3 = 'Bababadalgharaghtakamminarronnkonn'\n",
    "longestword = []\n",
    "\n",
    "lenstr1 = len(string1)\n",
    "lenstr2 = len(string2)\n",
    "lenstr3 = len(string3)\n",
    "lstlength = [lenstr1, lenstr2, lenstr3]\n",
    "lword = max(lstlength)\n",
    "\n",
    "if lword == lenstr1:\n",
    "    longestword.append(string1)\n",
    "if lword == lenstr2:\n",
    "    longestword.append(string2)\n",
    "if lword == lenstr3:\n",
    "    longestword.append(string3)\n",
    "\n",
    "    print(\"longest words:\",longestword)"
   ]
  },
  {
   "cell_type": "code",
   "execution_count": 26,
   "id": "85390abf",
   "metadata": {},
   "outputs": [
    {
     "name": "stdout",
     "output_type": "stream",
     "text": [
      "First comoposer in dictionary :  Bartok\n",
      "Last composer in dictionary :  Buxtehude\n"
     ]
    }
   ],
   "source": [
    "\n",
    "#  Which composer comes first in the dictionary: 'Berlioz', 'Borodin', 'Brian',\n",
    "#  'Bartok', 'Bellini', 'Buxtehude', 'Bernstein'. Which one comes last?\n",
    "\n",
    "names = [ 'Berlioz', 'Borodin', 'Brian','Bartok', 'Bellini', 'Buxtehude', 'Bernstein']\n",
    "length = len(names)\n",
    "names.sort()\n",
    "print(\"First comoposer in dictionary : \",names[0])\n",
    "print(\"Last composer in dictionary : \",names[length-1])\n"
   ]
  },
  {
   "cell_type": "markdown",
   "id": "7e8f7fb5",
   "metadata": {},
   "source": [
    "# QUESTION 3"
   ]
  },
  {
   "cell_type": "code",
   "execution_count": 28,
   "id": "59e20928",
   "metadata": {},
   "outputs": [
    {
     "name": "stdout",
     "output_type": "stream",
     "text": [
      "1.7320508075688772\n"
     ]
    }
   ],
   "source": [
    "#Function to find area of triangle if 3 sides are given\n",
    "\n",
    "import math\n",
    "def trianglearea(a,b,c):\n",
    "    s = (a+b+c)/2\n",
    "    area = math.sqrt((s*(s-a)*(s-b)*(s-c)))\n",
    "    print(area)\n",
    "trianglearea(2,2,2)"
   ]
  },
  {
   "cell_type": "markdown",
   "id": "42dbd270",
   "metadata": {},
   "source": [
    "# QUESTION 4"
   ]
  },
  {
   "cell_type": "code",
   "execution_count": 59,
   "id": "cec731d1",
   "metadata": {},
   "outputs": [
    {
     "name": "stdout",
     "output_type": "stream",
     "text": [
      "enter number of elements : 5\n",
      "enter the numbers\n",
      "25\n",
      "47\n",
      "42\n",
      "56\n",
      "32\n",
      "The even elements are:  [42, 56, 32]\n",
      "The odd elements are:  [25, 47]\n"
     ]
    }
   ],
   "source": [
    "#PROGRAM TO SEPARATE ODD AND EVEN NUMBERS IN SEPARATE ARRAYS\n",
    "\n",
    "numbers = []\n",
    "n = int(input(\"enter number of elements : \"))\n",
    "\n",
    "print(\"enter the numbers\")\n",
    "\n",
    "for i in range(0, n):\n",
    "    y = int(input())\n",
    "    \n",
    "    numbers.append(y)\n",
    "    \n",
    "even = []\n",
    "odd = []\n",
    "\n",
    "for num in numbers:\n",
    "    if num % 2 == 0:\n",
    "        even.append(num)\n",
    "    else:\n",
    "        odd.append(num)\n",
    "        \n",
    "print(\"The even elements are: \",even)\n",
    "print(\"The odd elements are: \",odd)"
   ]
  },
  {
   "cell_type": "markdown",
   "id": "23a0276f",
   "metadata": {},
   "source": [
    "# QUESTION 5"
   ]
  },
  {
   "cell_type": "code",
   "execution_count": 46,
   "id": "717ddbd4",
   "metadata": {},
   "outputs": [
    {
     "name": "stdout",
     "output_type": "stream",
     "text": [
      "True\n",
      "False\n",
      "False\n",
      "True\n"
     ]
    }
   ],
   "source": [
    "# Write a function inside(x,y,x1,y1,x2,y2) that returns True or False\n",
    "# depending on whether the point (x,y) lies in the rectangle with lower left\n",
    "# corner (x1,y1) and upper right corner (x2,y2).\n",
    "\n",
    "def inside(x,y,x1,y1,x2,y2):\n",
    "    if (x1 < x) and (x < x2) and (y1 < y) and (y < y2):\n",
    "        print(True)\n",
    "    else:\n",
    "        print(False)\n",
    "\n",
    "inside(1,1,0,0,2,3)\n",
    "inside(-1,-1,0,0,2,3)\n",
    "\n",
    "# Use function inside() from part a. to write an expression that tests whether\n",
    "# the point (1,1) lies in both of the following rectangles: one with lower left\n",
    "# corner (0.3, 0.5) and upper right corner (1.1, 0.7) and the other with lower\n",
    "# left corner (0.5, 0.2) and upper right corner (1.1, 2).\n",
    "\n",
    "\n",
    "inside(1, 1, 0.3, 0.5, 1.1, 0.7)\n",
    "inside(1, 1, 0.5, 0.2, 1.1, 2)\n"
   ]
  },
  {
   "cell_type": "markdown",
   "id": "880174c7",
   "metadata": {},
   "source": [
    "## QUESTION 6"
   ]
  },
  {
   "cell_type": "code",
   "execution_count": 49,
   "id": "b5e9df80",
   "metadata": {},
   "outputs": [
    {
     "name": "stdout",
     "output_type": "stream",
     "text": [
      "appyhay\n",
      "enterway\n"
     ]
    }
   ],
   "source": [
    "#Write a function pig() that takes a word (i.e., a string) as input and returns its pigLatin form. Your function should still work if the input word contains upper case\n",
    "#characters. Your output should always be lower case however\n",
    "\n",
    "def pig(word):\n",
    "    word = word.lower()\n",
    "    vowels = \"aeiou\"\n",
    "    if word[0] in vowels:\n",
    "        return word + \"way\"\n",
    "    else:\n",
    "        return word[1:] + word[0] + \"ay\"\n",
    "\n",
    "print(pig('happy'))\n",
    "print(pig('Enter'))"
   ]
  },
  {
   "cell_type": "markdown",
   "id": "2759bee3",
   "metadata": {},
   "source": [
    "# QUESTION 7"
   ]
  },
  {
   "cell_type": "code",
   "execution_count": 75,
   "id": "b0b24b28",
   "metadata": {},
   "outputs": [
    {
     "name": "stdout",
     "output_type": "stream",
     "text": [
      "There are  15  patients of blood type A\n",
      "There are  1  patients of blood type B\n",
      "There are  13  patients of blood type AB\n",
      "There are  15  patients of blood type O\n",
      "There are  0  patients of blood type OO\n"
     ]
    }
   ],
   "source": [
    "# Write a function bldcount() that reads the file with name name and reports (i.e.,\n",
    "# prints) how many patients there are in each bloodtype\n",
    "\n",
    "def bldcount(name):\n",
    "    f= open(name,'r+')\n",
    "    \n",
    "    count_a = 0\n",
    "    count_ab = 0\n",
    "    count_o = 0\n",
    "    count_b = 0\n",
    "    count_oo = 0\n",
    "    \n",
    "    list = f.read()\n",
    "    list = list.split()\n",
    "    f.close()\n",
    "    \n",
    "    for i in list:\n",
    "        if i == 'A':\n",
    "            count_a = count_a+1\n",
    "    print(\"There are \",count_a,\" patients of blood type A\")\n",
    "    \n",
    "    for i in list:\n",
    "        if i == 'B':\n",
    "            count_b = count_b+1\n",
    "    print(\"There are \",count_b,\" patients of blood type B\")\n",
    "    \n",
    "    for i in list:\n",
    "        if i == 'AB':\n",
    "            count_ab = count_ab+1\n",
    "    print(\"There are \",count_ab,\" patients of blood type AB\")\n",
    "    \n",
    "    for i in list:\n",
    "        if i == 'O':\n",
    "            count_o = count_o+1\n",
    "    print(\"There are \",count_o,\" patients of blood type O\")\n",
    "    \n",
    "    for i in list:\n",
    "        if i == 'OO':\n",
    "            count_oo = count_oo+1\n",
    "    print(\"There are \",count_oo,\" patients of blood type OO\")\n",
    "        \n",
    "    \n",
    "bldcount(\"C:/Users/johns/blood_type.txt\")"
   ]
  },
  {
   "cell_type": "markdown",
   "id": "db882443",
   "metadata": {},
   "source": [
    "# QUESTION 8"
   ]
  },
  {
   "cell_type": "code",
   "execution_count": 76,
   "id": "4601c669",
   "metadata": {},
   "outputs": [
    {
     "name": "stdout",
     "output_type": "stream",
     "text": [
      "122.96544\n",
      "1.241401\n"
     ]
    }
   ],
   "source": [
    "# Write a function curconv() that takes as input a currency represented using a string \n",
    "# OR an amount and then converts and returns the amount in US dollars\n",
    "\n",
    "def curconv(currency, amount):\n",
    "    f = open(\"C:/Users/johns/currencies.txt\")\n",
    "    \n",
    "    for line in f.readlines():\n",
    "        fields = line.split()\n",
    "        cur_type, rate = fields[0], float(fields[1])\n",
    "        if(cur_type == currency):\n",
    "            break\n",
    "    f.close()\n",
    "    return rate * amount\n",
    "\n",
    "\n",
    "print(curconv(\"EUR\", 100))\n",
    "print(curconv(\"JPY\", 100))"
   ]
  },
  {
   "cell_type": "markdown",
   "id": "f2561435",
   "metadata": {},
   "source": [
    "# QUESTION 9"
   ]
  },
  {
   "cell_type": "code",
   "execution_count": 53,
   "id": "916668f4",
   "metadata": {},
   "outputs": [
    {
     "ename": "IndentationError",
     "evalue": "unexpected indent (2189639431.py, line 3)",
     "output_type": "error",
     "traceback": [
      "\u001b[1;36m  File \u001b[1;32m\"C:\\Users\\johns\\AppData\\Local\\Temp\\ipykernel_17264\\2189639431.py\"\u001b[1;36m, line \u001b[1;32m3\u001b[0m\n\u001b[1;33m    6 + 'a'\u001b[0m\n\u001b[1;37m    ^\u001b[0m\n\u001b[1;31mIndentationError\u001b[0m\u001b[1;31m:\u001b[0m unexpected indent\n"
     ]
    }
   ],
   "source": [
    "# Identify what type of exception each will cause\n",
    "\n",
    " 6 + 'a'"
   ]
  },
  {
   "cell_type": "code",
   "execution_count": 65,
   "id": "5e4a21b4",
   "metadata": {},
   "outputs": [
    {
     "ename": "IndexError",
     "evalue": "list index out of range",
     "output_type": "error",
     "traceback": [
      "\u001b[1;31m---------------------------------------------------------------------------\u001b[0m",
      "\u001b[1;31mIndexError\u001b[0m                                Traceback (most recent call last)",
      "\u001b[1;32m~\\AppData\\Local\\Temp\\ipykernel_17264\\2321889180.py\u001b[0m in \u001b[0;36m<module>\u001b[1;34m\u001b[0m\n\u001b[0;32m      1\u001b[0m \u001b[0mlst\u001b[0m \u001b[1;33m=\u001b[0m \u001b[1;33m[\u001b[0m\u001b[1;36m1\u001b[0m\u001b[1;33m,\u001b[0m\u001b[1;36m2\u001b[0m\u001b[1;33m,\u001b[0m\u001b[1;36m3\u001b[0m\u001b[1;33m,\u001b[0m\u001b[1;36m4\u001b[0m\u001b[1;33m,\u001b[0m\u001b[1;36m5\u001b[0m\u001b[1;33m,\u001b[0m\u001b[1;36m6\u001b[0m\u001b[1;33m,\u001b[0m\u001b[1;36m7\u001b[0m\u001b[1;33m,\u001b[0m\u001b[1;36m8\u001b[0m\u001b[1;33m,\u001b[0m\u001b[1;36m9\u001b[0m\u001b[1;33m,\u001b[0m\u001b[1;36m0\u001b[0m\u001b[1;33m]\u001b[0m\u001b[1;33m\u001b[0m\u001b[1;33m\u001b[0m\u001b[0m\n\u001b[1;32m----> 2\u001b[1;33m \u001b[0mprint\u001b[0m\u001b[1;33m(\u001b[0m\u001b[0mlst\u001b[0m\u001b[1;33m[\u001b[0m\u001b[1;36m11\u001b[0m\u001b[1;33m]\u001b[0m\u001b[1;33m)\u001b[0m\u001b[1;33m\u001b[0m\u001b[1;33m\u001b[0m\u001b[0m\n\u001b[0m",
      "\u001b[1;31mIndexError\u001b[0m: list index out of range"
     ]
    }
   ],
   "source": [
    "lst = [1,2,3,4,5,6,7,8,9,0]\n",
    "print(lst[11])"
   ]
  },
  {
   "cell_type": "code",
   "execution_count": 55,
   "id": "9ecd7781",
   "metadata": {},
   "outputs": [
    {
     "ename": "ValueError",
     "evalue": "math domain error",
     "output_type": "error",
     "traceback": [
      "\u001b[1;31m---------------------------------------------------------------------------\u001b[0m",
      "\u001b[1;31mValueError\u001b[0m                                Traceback (most recent call last)",
      "\u001b[1;32m~\\AppData\\Local\\Temp\\ipykernel_17264\\773123707.py\u001b[0m in \u001b[0;36m<module>\u001b[1;34m\u001b[0m\n\u001b[0;32m      1\u001b[0m \u001b[1;32mimport\u001b[0m \u001b[0mmath\u001b[0m\u001b[1;33m\u001b[0m\u001b[1;33m\u001b[0m\u001b[0m\n\u001b[0;32m      2\u001b[0m \u001b[1;33m\u001b[0m\u001b[0m\n\u001b[1;32m----> 3\u001b[1;33m \u001b[0mprint\u001b[0m\u001b[1;33m(\u001b[0m\u001b[0mmath\u001b[0m\u001b[1;33m.\u001b[0m\u001b[0msqrt\u001b[0m\u001b[1;33m(\u001b[0m\u001b[1;33m-\u001b[0m\u001b[1;36m1.0\u001b[0m\u001b[1;33m)\u001b[0m\u001b[1;33m)\u001b[0m\u001b[1;33m\u001b[0m\u001b[1;33m\u001b[0m\u001b[0m\n\u001b[0m",
      "\u001b[1;31mValueError\u001b[0m: math domain error"
     ]
    }
   ],
   "source": [
    "import math\n",
    "\n",
    "print(math.sqrt(-1.0))\n"
   ]
  },
  {
   "cell_type": "code",
   "execution_count": 62,
   "id": "da8e51fc",
   "metadata": {},
   "outputs": [
    {
     "ename": "NameError",
     "evalue": "name 't' is not defined",
     "output_type": "error",
     "traceback": [
      "\u001b[1;31m---------------------------------------------------------------------------\u001b[0m",
      "\u001b[1;31mNameError\u001b[0m                                 Traceback (most recent call last)",
      "\u001b[1;32m~\\AppData\\Local\\Temp\\ipykernel_17264\\2058247866.py\u001b[0m in \u001b[0;36m<module>\u001b[1;34m\u001b[0m\n\u001b[1;32m----> 1\u001b[1;33m \u001b[0mprint\u001b[0m\u001b[1;33m(\u001b[0m\u001b[0mt\u001b[0m\u001b[1;33m)\u001b[0m\u001b[1;33m\u001b[0m\u001b[1;33m\u001b[0m\u001b[0m\n\u001b[0m",
      "\u001b[1;31mNameError\u001b[0m: name 't' is not defined"
     ]
    }
   ],
   "source": [
    "print(t)"
   ]
  },
  {
   "cell_type": "code",
   "execution_count": 64,
   "id": "810f09e3",
   "metadata": {},
   "outputs": [
    {
     "ename": "FileNotFoundError",
     "evalue": "[Errno 2] No such file or directory: 'jj.txt'",
     "output_type": "error",
     "traceback": [
      "\u001b[1;31m---------------------------------------------------------------------------\u001b[0m",
      "\u001b[1;31mFileNotFoundError\u001b[0m                         Traceback (most recent call last)",
      "\u001b[1;32m~\\AppData\\Local\\Temp\\ipykernel_17264\\258780217.py\u001b[0m in \u001b[0;36m<module>\u001b[1;34m\u001b[0m\n\u001b[1;32m----> 1\u001b[1;33m \u001b[0mf\u001b[0m \u001b[1;33m=\u001b[0m \u001b[0mopen\u001b[0m\u001b[1;33m(\u001b[0m\u001b[1;34m\"jj.txt\"\u001b[0m\u001b[1;33m)\u001b[0m\u001b[1;33m\u001b[0m\u001b[1;33m\u001b[0m\u001b[0m\n\u001b[0m",
      "\u001b[1;31mFileNotFoundError\u001b[0m: [Errno 2] No such file or directory: 'jj.txt'"
     ]
    }
   ],
   "source": [
    "f = open(\"jj.txt\")"
   ]
  },
  {
   "cell_type": "markdown",
   "id": "a3888197",
   "metadata": {},
   "source": [
    "# QUESTION 10"
   ]
  },
  {
   "cell_type": "code",
   "execution_count": 66,
   "id": "ca7612a6",
   "metadata": {},
   "outputs": [
    {
     "name": "stdout",
     "output_type": "stream",
     "text": [
      "Enter the messageThe quick red fox got bored and went home\n",
      "1 1 1 3 5 1 1 2 1 0 1 0 1 2 4 0 1 2 0 3 1 0 1 1 0 0 "
     ]
    }
   ],
   "source": [
    "#Write a function called frequencies()\n",
    "#that takes a string as its only parameter, and returns a list of integers, showing the\n",
    "#number of times each character appears in the text. Your function may ignore any\n",
    "#characters that are not in letters.\n",
    "\n",
    "Code= input(\"Enter the message\")\n",
    "\n",
    "\n",
    "x= ['a','b','c','d','e','f','g','h','i','j','k','l','m','n','o','p','q','r','s','t','u','v','w','x','y','z']\n",
    "  \n",
    "for i in x:\n",
    "    print(Code.lower().count(i),end=' ')"
   ]
  }
 ],
 "metadata": {
  "kernelspec": {
   "display_name": "Python 3 (ipykernel)",
   "language": "python",
   "name": "python3"
  },
  "language_info": {
   "codemirror_mode": {
    "name": "ipython",
    "version": 3
   },
   "file_extension": ".py",
   "mimetype": "text/x-python",
   "name": "python",
   "nbconvert_exporter": "python",
   "pygments_lexer": "ipython3",
   "version": "3.9.13"
  }
 },
 "nbformat": 4,
 "nbformat_minor": 5
}
